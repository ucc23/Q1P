{
  "nbformat": 4,
  "nbformat_minor": 0,
  "metadata": {
    "colab": {
      "provenance": [],
      "toc_visible": true
    },
    "kernelspec": {
      "name": "python3",
      "display_name": "Python 3"
    },
    "language_info": {
      "name": "python"
    }
  },
  "cells": [
    {
      "cell_type": "markdown",
      "source": [
        "# Exploring UCC cluster data\n",
        "\n",
        "This notebook allows you to explore the data for each cluster in the UCC. The cluster datafiles contain the frame processed by `fastMP` with membership probabilities assigned for all the stars."
      ],
      "metadata": {
        "id": ""
      }
    },
    {
      "cell_type": "markdown",
      "source": [
        "## Import packages and load data\n",
        "\n",
        "First we define the name of the cluster to be analyzed:"
      ],
      "metadata": {
        "id": ""
      }
    },
    {
      "cell_type": "code",
      "source": [
        "cluster = \"cwnu3680\"" 
      ],
      "metadata": {
        "id": ""
      },
      "execution_count": null,
      "outputs": []
    },
    {
      "cell_type": "markdown",
      "source": [
        "and import the required packages:"
      ],
      "metadata": {
        "id": ""
      }
    },
    {
      "cell_type": "code",
      "execution_count": null,
      "metadata": {
        "id": ""
      },
      "outputs": [],
      "source": [
        "import pandas as pd\n",
        "import numpy as np\n",
        "from bokeh.plotting import figure, show\n",
        "from bokeh.models import LinearColorMapper\n",
        "from bokeh.models import ColumnDataSource\n",
        "from bokeh.models import ColorBar\n",
        "from bokeh.models import Range1d\n",
        "from bokeh.io import output_notebook\n",
        "output_notebook()"
      ]
    },
    {
      "cell_type": "markdown",
      "source": [
        "After importing the required packages, we load the cluster data into the dataframe `df`"
      ],
      "metadata": {
        "id": ""
      }
    },
    {
      "cell_type": "code",
      "source": [
        "path = \"https://github.com/ucc23/Q1P/raw/main/datafiles/\"\n",
        "df = pd.read_parquet(path + cluster + \".parquet\")"
      ],
      "metadata": {
        "id": ""
      },
      "execution_count": null,
      "outputs": []
    },
    {
      "cell_type": "markdown",
      "source": [
        "The most probable members are stored using a probability cut `P>0.5`. A minimum number of member stars is set to `25`, so that if less than `25` stars have `P>0.5` then the most probable members are those `25` stars with the largest probability values."
      ],
      "metadata": {
        "id": ""
      }
    },
    {
      "cell_type": "markdown",
      "source": [
        "## Define plotting functions\n"
      ],
      "metadata": {
        "id": ""
      }
    },
    {
      "cell_type": "markdown",
      "source": [
        "Define a function to generate scatter plots"
      ],
      "metadata": {
        "id": ""
      }
    },
    {
      "cell_type": "code",
      "source": [
        "def scatter_plot(x, y, col, flip_yaxis=False):\n",
        "    members = ColumnDataSource({'xm':df[x], 'ym':df[y], 'col':df[col]})\n",
        "    cmap = LinearColorMapper(palette=\"Viridis256\", low = .5, high = 1)\n",
        "\n",
        "    p = figure()\n",
        "    p.circle(\"xm\", \"ym\", size=10, source=members, line_color='black', alpha=.75,\n",
        "            fill_color={\"field\":\"col\", \"transform\":cmap})\n",
        "    if flip_yaxis:\n",
        "        p.y_range.flipped = True\n",
        "    bar = ColorBar(color_mapper=cmap)\n",
        "    p.add_layout(bar, \"right\")\n",
        "    p.xaxis.axis_label = x\n",
        "    p.yaxis.axis_label = y\n",
        "    show(p)\n"
      ],
      "metadata": {
        "id": ""
      },
      "execution_count": null,
      "outputs": []
    },
    {
      "cell_type": "markdown",
      "source": [
        "And a function to generate histograms"
      ],
      "metadata": {
        "id": ""
      }
    },
    {
      "cell_type": "code",
      "source": [
        "def histo_plot(x):\n",
        "    p = figure()\n",
        "    # Histogram for member stars\n",
        "    hist, edges = np.histogram(df[x], bins=20)\n",
        "    p.quad(top=hist, bottom=0, left=edges[:-1], right=edges[1:],\n",
        "            fill_color=\"skyblue\", line_color=\"white\", alpha=.75)\n",
        "    # Vertical line\n",
        "    p.ray(x=[np.nanmedian(df[x])], y=[0], length=0, angle=90,\n",
        "          angle_units='deg', line_width=3, line_color='red')\n",
        "    left, right = np.nanmin(df[x]) * 0.9, np.nanmax(df[x]) * 1.1\n",
        "    p.x_range=Range1d(left, right)\n",
        "    p.xaxis.axis_label = x\n",
        "    p.yaxis.axis_label = \"N\"\n",
        "    show(p)"
      ],
      "metadata": {
        "id": ""
      },
      "execution_count": null,
      "outputs": []
    },
    {
      "cell_type": "markdown",
      "source": [
        "## Generate interactive plots\n",
        "\n",
        "Now we can generate some interactive plots. For example the distribution of galactic coordinates for member stars, colored by their membership probability"
      ],
      "metadata": {
        "id": ""
      }
    },
    {
      "cell_type": "code",
      "source": [
        "x, y, col = 'GLON', 'GLAT', 'probs'\n",
        "scatter_plot(x, y, col)"
      ],
      "metadata": {
        "id": ""
      },
      "execution_count": null,
      "outputs": []
    },
    {
      "cell_type": "markdown",
      "source": [
        "And a color-magnitude diagram"
      ],
      "metadata": {
        "id": ""
      }
    },
    {
      "cell_type": "code",
      "source": [
        "x, y, col = 'BP-RP', 'Gmag', 'probs'\n",
        "scatter_plot(x, y, col, True)"
      ],
      "metadata": {
        "id": ""
      },
      "execution_count": null,
      "outputs": []
    },
    {
      "cell_type": "markdown",
      "source": [
        "Distribution of proper motions"
      ],
      "metadata": {
        "id": ""
      }
    },
    {
      "cell_type": "code",
      "source": [
        "x, y, col = 'pmRA', 'pmDE', 'probs'\n",
        "scatter_plot(x, y, col)"
      ],
      "metadata": {
        "id": ""
      },
      "execution_count": null,
      "outputs": []
    },
    {
      "cell_type": "markdown",
      "source": [
        "Histogram of the parallaxes with the median value of the selected members shown as a red vertical line"
      ],
      "metadata": {
        "id": ""
      }
    },
    {
      "cell_type": "code",
      "source": [
        "histo_plot('Plx')"
      ],
      "metadata": {
        "id": ""
      },
      "execution_count": null,
      "outputs": []
    }
  ]
}